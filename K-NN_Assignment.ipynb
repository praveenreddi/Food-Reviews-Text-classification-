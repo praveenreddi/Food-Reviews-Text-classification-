{
 "cells": [
  {
   "cell_type": "markdown",
   "metadata": {},
   "source": [
    "# Amazon Fine Food Reviews KNN_BOW\n",
    "The Amazon Fine Food Reviews dataset consists of reviews of fine foods from Amazon.\n",
    "\n",
    "Number of reviews: 568,454 Number of users: 256,059 Number of products: 74,258 Timespan: Oct 1999 - Oct 2012 Number of Attributes/Columns in data: 10\n",
    "\n",
    "Attribute Information:\n",
    "\n",
    "Id ProductId - unique identifier for the product UserId - unqiue identifier for the user ProfileName HelpfulnessNumerator - number of users who found the review helpful HelpfulnessDenominator - number of users who indicated whether they found the review helpful or not Score - rating between 1 and 5 Time - timestamp for the review Summary - brief summary of the review Text - text of the review Objective: Given a review, determine whether the review is positive (Rating of 4 or 5) or negative (rating of 1 or 2).\n",
    "\n",
    "[Q] How to determine if a review is positive or negative?\n",
    "\n",
    "[Ans] We could use the Score/Rating. A rating of 4 or 5 could be cosnidered a positive review. A review of 1 or 2 could be considered negative. A review of 3 is nuetral and ignored. This is an approximate and proxy way of determining the polarity (positivity/negativity) of a review."
   ]
  },
  {
   "cell_type": "markdown",
   "metadata": {},
   "source": [
    "# Loading the data\n",
    "The dataset is available in two forms\n",
    "\n",
    "1.csv file\n",
    "\n",
    "2.SQLite Database\n",
    "\n",
    "In order to load the data, We have used the SQLITE dataset as it easier to query the data and visualise the data efficiently. Here as we only want to get the global sentiment of the recommendations (positive or negative), we will purposefully ignore all Scores equal to 3. If the score id above 3, then the recommendation wil be set to \"positive\". Otherwise, it will be set to \"negative\"."
   ]
  },
  {
   "cell_type": "code",
   "execution_count": 1,
   "metadata": {},
   "outputs": [
    {
     "name": "stdout",
     "output_type": "stream",
     "text": [
      "(525814, 10)\n"
     ]
    },
    {
     "data": {
      "text/html": [
       "<div>\n",
       "<style scoped>\n",
       "    .dataframe tbody tr th:only-of-type {\n",
       "        vertical-align: middle;\n",
       "    }\n",
       "\n",
       "    .dataframe tbody tr th {\n",
       "        vertical-align: top;\n",
       "    }\n",
       "\n",
       "    .dataframe thead th {\n",
       "        text-align: right;\n",
       "    }\n",
       "</style>\n",
       "<table border=\"1\" class=\"dataframe\">\n",
       "  <thead>\n",
       "    <tr style=\"text-align: right;\">\n",
       "      <th></th>\n",
       "      <th>Id</th>\n",
       "      <th>ProductId</th>\n",
       "      <th>UserId</th>\n",
       "      <th>ProfileName</th>\n",
       "      <th>HelpfulnessNumerator</th>\n",
       "      <th>HelpfulnessDenominator</th>\n",
       "      <th>Score</th>\n",
       "      <th>Time</th>\n",
       "      <th>Summary</th>\n",
       "      <th>Text</th>\n",
       "    </tr>\n",
       "  </thead>\n",
       "  <tbody>\n",
       "    <tr>\n",
       "      <th>0</th>\n",
       "      <td>1</td>\n",
       "      <td>B001E4KFG0</td>\n",
       "      <td>A3SGXH7AUHU8GW</td>\n",
       "      <td>delmartian</td>\n",
       "      <td>1</td>\n",
       "      <td>1</td>\n",
       "      <td>positive</td>\n",
       "      <td>1303862400</td>\n",
       "      <td>Good Quality Dog Food</td>\n",
       "      <td>I have bought several of the Vitality canned d...</td>\n",
       "    </tr>\n",
       "    <tr>\n",
       "      <th>1</th>\n",
       "      <td>2</td>\n",
       "      <td>B00813GRG4</td>\n",
       "      <td>A1D87F6ZCVE5NK</td>\n",
       "      <td>dll pa</td>\n",
       "      <td>0</td>\n",
       "      <td>0</td>\n",
       "      <td>negative</td>\n",
       "      <td>1346976000</td>\n",
       "      <td>Not as Advertised</td>\n",
       "      <td>Product arrived labeled as Jumbo Salted Peanut...</td>\n",
       "    </tr>\n",
       "    <tr>\n",
       "      <th>2</th>\n",
       "      <td>3</td>\n",
       "      <td>B000LQOCH0</td>\n",
       "      <td>ABXLMWJIXXAIN</td>\n",
       "      <td>Natalia Corres \"Natalia Corres\"</td>\n",
       "      <td>1</td>\n",
       "      <td>1</td>\n",
       "      <td>positive</td>\n",
       "      <td>1219017600</td>\n",
       "      <td>\"Delight\" says it all</td>\n",
       "      <td>This is a confection that has been around a fe...</td>\n",
       "    </tr>\n",
       "    <tr>\n",
       "      <th>3</th>\n",
       "      <td>4</td>\n",
       "      <td>B000UA0QIQ</td>\n",
       "      <td>A395BORC6FGVXV</td>\n",
       "      <td>Karl</td>\n",
       "      <td>3</td>\n",
       "      <td>3</td>\n",
       "      <td>negative</td>\n",
       "      <td>1307923200</td>\n",
       "      <td>Cough Medicine</td>\n",
       "      <td>If you are looking for the secret ingredient i...</td>\n",
       "    </tr>\n",
       "    <tr>\n",
       "      <th>4</th>\n",
       "      <td>5</td>\n",
       "      <td>B006K2ZZ7K</td>\n",
       "      <td>A1UQRSCLF8GW1T</td>\n",
       "      <td>Michael D. Bigham \"M. Wassir\"</td>\n",
       "      <td>0</td>\n",
       "      <td>0</td>\n",
       "      <td>positive</td>\n",
       "      <td>1350777600</td>\n",
       "      <td>Great taffy</td>\n",
       "      <td>Great taffy at a great price.  There was a wid...</td>\n",
       "    </tr>\n",
       "  </tbody>\n",
       "</table>\n",
       "</div>"
      ],
      "text/plain": [
       "   Id   ProductId          UserId                      ProfileName  \\\n",
       "0   1  B001E4KFG0  A3SGXH7AUHU8GW                       delmartian   \n",
       "1   2  B00813GRG4  A1D87F6ZCVE5NK                           dll pa   \n",
       "2   3  B000LQOCH0   ABXLMWJIXXAIN  Natalia Corres \"Natalia Corres\"   \n",
       "3   4  B000UA0QIQ  A395BORC6FGVXV                             Karl   \n",
       "4   5  B006K2ZZ7K  A1UQRSCLF8GW1T    Michael D. Bigham \"M. Wassir\"   \n",
       "\n",
       "   HelpfulnessNumerator  HelpfulnessDenominator     Score        Time  \\\n",
       "0                     1                       1  positive  1303862400   \n",
       "1                     0                       0  negative  1346976000   \n",
       "2                     1                       1  positive  1219017600   \n",
       "3                     3                       3  negative  1307923200   \n",
       "4                     0                       0  positive  1350777600   \n",
       "\n",
       "                 Summary                                               Text  \n",
       "0  Good Quality Dog Food  I have bought several of the Vitality canned d...  \n",
       "1      Not as Advertised  Product arrived labeled as Jumbo Salted Peanut...  \n",
       "2  \"Delight\" says it all  This is a confection that has been around a fe...  \n",
       "3         Cough Medicine  If you are looking for the secret ingredient i...  \n",
       "4            Great taffy  Great taffy at a great price.  There was a wid...  "
      ]
     },
     "execution_count": 1,
     "metadata": {},
     "output_type": "execute_result"
    }
   ],
   "source": [
    "import sqlite3\n",
    "import pandas as pd\n",
    "import numpy as np\n",
    "import nltk\n",
    "import string\n",
    "import matplotlib.pyplot as plt\n",
    "import seaborn as sns\n",
    "from sklearn.feature_extraction.text import TfidfTransformer\n",
    "from sklearn.feature_extraction.text import TfidfVectorizer\n",
    "\n",
    "from sklearn.feature_extraction.text import CountVectorizer\n",
    "from sklearn.metrics import confusion_matrix\n",
    "from sklearn import metrics\n",
    "from sklearn.metrics import roc_curve, auc\n",
    "from nltk.stem.porter import PorterStemmer\n",
    "\n",
    "con = sqlite3.connect('database.sqlite')#Using SQLite table to read the data\n",
    "\n",
    "#Filtering the data such that reviews will be only positive and negative and not considering review with score=3\n",
    "\n",
    "data = pd.read_sql_query(\"\"\"\n",
    "SELECT *\n",
    "FROM Reviews\n",
    "WHERE Score != 3\n",
    "\"\"\", con) \n",
    "\n",
    "# Give reviews with Score>3 a positive rating, and reviews with a score<3 a negative rating.\n",
    "def partition(x):\n",
    "    if x < 3:\n",
    "        return 'negative'\n",
    "    return 'positive'\n",
    "\n",
    "#changing reviews with score less than 3 to be positive and vice-versa\n",
    "actualScore = data['Score']\n",
    "positiveNegative = actualScore.map(partition) \n",
    "data['Score'] = positiveNegative\n",
    "print(data.shape)\n",
    "data.head()"
   ]
  },
  {
   "cell_type": "code",
   "execution_count": 2,
   "metadata": {},
   "outputs": [
    {
     "data": {
      "text/plain": [
       "(525814, 10)"
      ]
     },
     "execution_count": 2,
     "metadata": {},
     "output_type": "execute_result"
    }
   ],
   "source": [
    "data.shape"
   ]
  },
  {
   "cell_type": "code",
   "execution_count": 3,
   "metadata": {},
   "outputs": [],
   "source": [
    "#Sorting data according to ProductId in ascending order\n",
    "sorted_data=data.sort_values('ProductId', axis=0, ascending=True, inplace=False, kind='quicksort', na_position='last')"
   ]
  },
  {
   "cell_type": "code",
   "execution_count": 4,
   "metadata": {},
   "outputs": [
    {
     "data": {
      "text/plain": [
       "(364173, 10)"
      ]
     },
     "execution_count": 4,
     "metadata": {},
     "output_type": "execute_result"
    }
   ],
   "source": [
    "#Deduplication of entries\n",
    "final=sorted_data.drop_duplicates(subset={\"UserId\",\"ProfileName\",\"Time\",\"Text\"}, keep='first', inplace=False)\n",
    "final.shape"
   ]
  },
  {
   "cell_type": "code",
   "execution_count": 5,
   "metadata": {},
   "outputs": [
    {
     "data": {
      "text/plain": [
       "69.25890143662969"
      ]
     },
     "execution_count": 5,
     "metadata": {},
     "output_type": "execute_result"
    }
   ],
   "source": [
    "#Checking to see how much % of data still remains\n",
    "(final['Id'].size*1.0)/(data['Id'].size*1.0)*100"
   ]
  },
  {
   "cell_type": "markdown",
   "metadata": {},
   "source": [
    "It was also seen that in two rows given below the value of HelpfulnessNumerator is greater than HelpfulnessDenominator which is not practically possible hence these two rows too are removed from calcualtions"
   ]
  },
  {
   "cell_type": "code",
   "execution_count": 6,
   "metadata": {},
   "outputs": [],
   "source": [
    "final=final[final.HelpfulnessNumerator<=final.HelpfulnessDenominator]"
   ]
  },
  {
   "cell_type": "code",
   "execution_count": 7,
   "metadata": {},
   "outputs": [
    {
     "data": {
      "text/plain": [
       "(364171, 10)"
      ]
     },
     "execution_count": 7,
     "metadata": {},
     "output_type": "execute_result"
    }
   ],
   "source": [
    "final.shape"
   ]
  },
  {
   "cell_type": "code",
   "execution_count": 8,
   "metadata": {},
   "outputs": [
    {
     "data": {
      "text/plain": [
       "364171"
      ]
     },
     "execution_count": 8,
     "metadata": {},
     "output_type": "execute_result"
    }
   ],
   "source": [
    "final['Score'].size"
   ]
  },
  {
   "cell_type": "code",
   "execution_count": 9,
   "metadata": {},
   "outputs": [
    {
     "data": {
      "text/html": [
       "<div>\n",
       "<style scoped>\n",
       "    .dataframe tbody tr th:only-of-type {\n",
       "        vertical-align: middle;\n",
       "    }\n",
       "\n",
       "    .dataframe tbody tr th {\n",
       "        vertical-align: top;\n",
       "    }\n",
       "\n",
       "    .dataframe thead th {\n",
       "        text-align: right;\n",
       "    }\n",
       "</style>\n",
       "<table border=\"1\" class=\"dataframe\">\n",
       "  <thead>\n",
       "    <tr style=\"text-align: right;\">\n",
       "      <th></th>\n",
       "      <th>Id</th>\n",
       "      <th>ProductId</th>\n",
       "      <th>UserId</th>\n",
       "      <th>ProfileName</th>\n",
       "      <th>HelpfulnessNumerator</th>\n",
       "      <th>HelpfulnessDenominator</th>\n",
       "      <th>Score</th>\n",
       "      <th>Time</th>\n",
       "      <th>Summary</th>\n",
       "      <th>Text</th>\n",
       "    </tr>\n",
       "  </thead>\n",
       "  <tbody>\n",
       "    <tr>\n",
       "      <th>138706</th>\n",
       "      <td>150524</td>\n",
       "      <td>0006641040</td>\n",
       "      <td>ACITT7DI6IDDL</td>\n",
       "      <td>shari zychinski</td>\n",
       "      <td>0</td>\n",
       "      <td>0</td>\n",
       "      <td>1</td>\n",
       "      <td>939340800</td>\n",
       "      <td>EVERY book is educational</td>\n",
       "      <td>this witty little book makes my son laugh at l...</td>\n",
       "    </tr>\n",
       "    <tr>\n",
       "      <th>138688</th>\n",
       "      <td>150506</td>\n",
       "      <td>0006641040</td>\n",
       "      <td>A2IW4PEEKO2R0U</td>\n",
       "      <td>Tracy</td>\n",
       "      <td>1</td>\n",
       "      <td>1</td>\n",
       "      <td>1</td>\n",
       "      <td>1194739200</td>\n",
       "      <td>Love the book, miss the hard cover version</td>\n",
       "      <td>I grew up reading these Sendak books, and watc...</td>\n",
       "    </tr>\n",
       "    <tr>\n",
       "      <th>138689</th>\n",
       "      <td>150507</td>\n",
       "      <td>0006641040</td>\n",
       "      <td>A1S4A3IQ2MU7V4</td>\n",
       "      <td>sally sue \"sally sue\"</td>\n",
       "      <td>1</td>\n",
       "      <td>1</td>\n",
       "      <td>1</td>\n",
       "      <td>1191456000</td>\n",
       "      <td>chicken soup with rice months</td>\n",
       "      <td>This is a fun way for children to learn their ...</td>\n",
       "    </tr>\n",
       "    <tr>\n",
       "      <th>138690</th>\n",
       "      <td>150508</td>\n",
       "      <td>0006641040</td>\n",
       "      <td>AZGXZ2UUK6X</td>\n",
       "      <td>Catherine Hallberg \"(Kate)\"</td>\n",
       "      <td>1</td>\n",
       "      <td>1</td>\n",
       "      <td>1</td>\n",
       "      <td>1076025600</td>\n",
       "      <td>a good swingy rhythm for reading aloud</td>\n",
       "      <td>This is a great little book to read aloud- it ...</td>\n",
       "    </tr>\n",
       "    <tr>\n",
       "      <th>138691</th>\n",
       "      <td>150509</td>\n",
       "      <td>0006641040</td>\n",
       "      <td>A3CMRKGE0P909G</td>\n",
       "      <td>Teresa</td>\n",
       "      <td>3</td>\n",
       "      <td>4</td>\n",
       "      <td>1</td>\n",
       "      <td>1018396800</td>\n",
       "      <td>A great way to learn the months</td>\n",
       "      <td>This is a book of poetry about the months of t...</td>\n",
       "    </tr>\n",
       "  </tbody>\n",
       "</table>\n",
       "</div>"
      ],
      "text/plain": [
       "            Id   ProductId          UserId                  ProfileName  \\\n",
       "138706  150524  0006641040   ACITT7DI6IDDL              shari zychinski   \n",
       "138688  150506  0006641040  A2IW4PEEKO2R0U                        Tracy   \n",
       "138689  150507  0006641040  A1S4A3IQ2MU7V4        sally sue \"sally sue\"   \n",
       "138690  150508  0006641040     AZGXZ2UUK6X  Catherine Hallberg \"(Kate)\"   \n",
       "138691  150509  0006641040  A3CMRKGE0P909G                       Teresa   \n",
       "\n",
       "        HelpfulnessNumerator  HelpfulnessDenominator  Score        Time  \\\n",
       "138706                     0                       0      1   939340800   \n",
       "138688                     1                       1      1  1194739200   \n",
       "138689                     1                       1      1  1191456000   \n",
       "138690                     1                       1      1  1076025600   \n",
       "138691                     3                       4      1  1018396800   \n",
       "\n",
       "                                           Summary  \\\n",
       "138706                   EVERY book is educational   \n",
       "138688  Love the book, miss the hard cover version   \n",
       "138689               chicken soup with rice months   \n",
       "138690      a good swingy rhythm for reading aloud   \n",
       "138691             A great way to learn the months   \n",
       "\n",
       "                                                     Text  \n",
       "138706  this witty little book makes my son laugh at l...  \n",
       "138688  I grew up reading these Sendak books, and watc...  \n",
       "138689  This is a fun way for children to learn their ...  \n",
       "138690  This is a great little book to read aloud- it ...  \n",
       "138691  This is a book of poetry about the months of t...  "
      ]
     },
     "execution_count": 9,
     "metadata": {},
     "output_type": "execute_result"
    }
   ],
   "source": [
    "def polarity(X):\n",
    "    if X=='positive':\n",
    "        return 1\n",
    "    else:\n",
    "        return 0\n",
    "final[\"Score\"]=final[\"Score\"].map(polarity)\n",
    "final.head()"
   ]
  },
  {
   "cell_type": "markdown",
   "metadata": {},
   "source": [
    "# Text Preprocessing: Stemming, stop-word removal and Lemmatization.\n",
    "\n",
    "\n",
    "Now that we have finished deduplication our data requires some preprocessing before we go on further with analysis and making the prediction model.\n",
    "\n",
    "Hence in the Preprocessing phase we do the following in the order below:-\n",
    "\n",
    "1.Begin by removing the html tags\n",
    "\n",
    "2.Remove any punctuations or limited set of special characters like , or . or # etc.\n",
    "\n",
    "3.Check if the word is made up of english letters and is not alpha-numeric\n",
    "\n",
    "4.Check to see if the length of the word is greater than 2 (as it was researched that there is no adjective in 2-letters)\n",
    "\n",
    "5.Convert the word to lowercase\n",
    "\n",
    "6.Remove Stopwords\n",
    "\n",
    "7.Finally Snowball Stemming the word (it was obsereved to be better than Porter Stemming)\n",
    "\n",
    "After which we collect the words used to describe positive and negative reviews"
   ]
  },
  {
   "cell_type": "code",
   "execution_count": 10,
   "metadata": {},
   "outputs": [
    {
     "name": "stdout",
     "output_type": "stream",
     "text": [
      "{'while', 'my', 'he', 'above', 'doesn', 'just', 'why', 'hadn', 'hasn', 'ma', \"weren't\", 'when', 'won', \"shan't\", 'your', 'a', 'about', 't', 'y', 'itself', 'didn', \"you're\", 'but', 'what', 'are', 'be', \"it's\", 'their', 'she', 'in', 'with', 'those', 'we', 'do', \"hasn't\", 'him', 'most', \"needn't\", 'during', 'against', 'only', 'of', \"haven't\", 'up', 'myself', 'should', 'such', \"couldn't\", 'before', 'too', 'm', 'for', 'further', 'again', 'now', 'ourselves', 'any', \"mightn't\", \"won't\", 'been', 'doing', 'his', 'below', 'you', 'these', 'wouldn', 'other', 'all', 'd', 'no', 'have', \"you'll\", 'an', 'how', \"aren't\", 'down', 'will', 'couldn', \"wouldn't\", 'than', 'were', 'this', 'had', 'after', 'out', 'between', 'so', 'needn', 'shan', 'not', 'mightn', \"don't\", 'they', 'same', 'll', 'if', 'isn', \"doesn't\", 'herself', 'that', 'few', 'being', 'mustn', 'yourself', 'or', 's', 'until', 'haven', 'her', 'theirs', \"wasn't\", 'whom', 'the', 'on', 'by', 'here', 'hers', 'each', \"you'd\", 'ours', 'it', \"mustn't\", 've', \"that'll\", 'wasn', 'over', 'then', \"didn't\", 'yourselves', 'because', 'shouldn', 'has', 'who', 'weren', 'did', 'don', 'once', 'at', 'and', 'am', 'under', 'ain', 'into', 'to', 'nor', 'own', 'very', 'its', \"should've\", 'which', 'themselves', 'both', 'from', 'i', 'was', \"you've\", 'through', \"hadn't\", 'yours', 'our', 'o', \"shouldn't\", 'is', 'more', 'having', \"isn't\", 'can', \"she's\", 'there', 'them', 're', 'himself', 'aren', 'some', 'off', 'as', 'me', 'where', 'does'}\n"
     ]
    }
   ],
   "source": [
    "import re\n",
    "import string\n",
    "from nltk.corpus import stopwords\n",
    "from nltk.stem import PorterStemmer\n",
    "from nltk.stem.wordnet import WordNetLemmatizer\n",
    "\n",
    "stop = set(stopwords.words('english')) #set of stopwords\n",
    "sno = nltk.stem.SnowballStemmer('english') #initialising the snowball stemmer\n",
    "\n",
    "def cleanhtml(sentence): #function to clean the word of any html-tags\n",
    "    cleanr = re.compile('<.*?>')\n",
    "    cleantext = re.sub(cleanr, ' ', sentence)\n",
    "    return cleantext\n",
    "def cleanpunc(sentence): #function to clean the word of any punctuation or special characters\n",
    "    cleaned = re.sub(r'[?|!|\\'|\"|#]',r'',sentence)\n",
    "    cleaned = re.sub(r'[.|,|)|(|\\|/]',r' ',cleaned)\n",
    "    return  cleaned\n",
    "print(stop)"
   ]
  },
  {
   "cell_type": "code",
   "execution_count": 11,
   "metadata": {},
   "outputs": [
    {
     "name": "stdout",
     "output_type": "stream",
     "text": [
      "Wall time: 6min 11s\n"
     ]
    }
   ],
   "source": [
    "%%time\n",
    "\n",
    "from time import time\n",
    "i=0\n",
    "str1=' '\n",
    "final_string=[]\n",
    "# all_positive_words=[] # store words from +ve reviews here\n",
    "# all_negative_words=[] # store words from -ve reviews here.\n",
    "s=''\n",
    "for sent in final['Text'].values:\n",
    "    filtered_sentence=[]\n",
    "    #print(sent);\n",
    "    sent=cleanhtml(sent) # remove HTMl tags\n",
    "    for w in sent.split():\n",
    "        for cleaned_words in cleanpunc(w).split():\n",
    "            if((cleaned_words.isalpha()) & (len(cleaned_words)>2)):    \n",
    "                if(cleaned_words.lower() not in stop):\n",
    "                    s=(sno.stem(cleaned_words.lower())).encode('utf8')\n",
    "                    filtered_sentence.append(s)\n",
    "#                     if (final['Score'].values)[i] == 'positive': \n",
    "#                         all_positive_words.append(s) #list of all words used to describe positive reviews\n",
    "#                     if(final['Score'].values)[i] == 'negative':\n",
    "#                         all_negative_words.append(s) #list of all words used to describe negative reviews reviews\n",
    "                else:\n",
    "                    continue\n",
    "            else:\n",
    "                continue \n",
    "    #print(filtered_sentence)\n",
    "    str1 = b\" \".join(filtered_sentence) #final string of cleaned words\n",
    "    #print(\"***********************************************************************\")\n",
    "    \n",
    "    final_string.append(str1)\n",
    "    i+=1"
   ]
  },
  {
   "cell_type": "code",
   "execution_count": 12,
   "metadata": {},
   "outputs": [
    {
     "data": {
      "text/plain": [
       "(364171, 11)"
      ]
     },
     "execution_count": 12,
     "metadata": {},
     "output_type": "execute_result"
    }
   ],
   "source": [
    "final['CleanedText']=final_string #adding a column of CleanedText which displays the data after pre-processing of the review \n",
    "final.shape"
   ]
  },
  {
   "cell_type": "code",
   "execution_count": 13,
   "metadata": {},
   "outputs": [
    {
     "data": {
      "text/plain": [
       "(50000, 11)"
      ]
     },
     "execution_count": 13,
     "metadata": {},
     "output_type": "execute_result"
    }
   ],
   "source": [
    "n_samples=50000\n",
    "final_sample=final.sample(n_samples)\n",
    "final_sample.shape"
   ]
  },
  {
   "cell_type": "code",
   "execution_count": 14,
   "metadata": {},
   "outputs": [
    {
     "data": {
      "text/html": [
       "<div>\n",
       "<style scoped>\n",
       "    .dataframe tbody tr th:only-of-type {\n",
       "        vertical-align: middle;\n",
       "    }\n",
       "\n",
       "    .dataframe tbody tr th {\n",
       "        vertical-align: top;\n",
       "    }\n",
       "\n",
       "    .dataframe thead th {\n",
       "        text-align: right;\n",
       "    }\n",
       "</style>\n",
       "<table border=\"1\" class=\"dataframe\">\n",
       "  <thead>\n",
       "    <tr style=\"text-align: right;\">\n",
       "      <th></th>\n",
       "      <th>Id</th>\n",
       "      <th>ProductId</th>\n",
       "      <th>UserId</th>\n",
       "      <th>ProfileName</th>\n",
       "      <th>HelpfulnessNumerator</th>\n",
       "      <th>HelpfulnessDenominator</th>\n",
       "      <th>Score</th>\n",
       "      <th>Time</th>\n",
       "      <th>Summary</th>\n",
       "      <th>Text</th>\n",
       "      <th>CleanedText</th>\n",
       "    </tr>\n",
       "  </thead>\n",
       "  <tbody>\n",
       "    <tr>\n",
       "      <th>417839</th>\n",
       "      <td>451856</td>\n",
       "      <td>B00004CXX9</td>\n",
       "      <td>AIUWLEQ1ADEG5</td>\n",
       "      <td>Elizabeth Medina</td>\n",
       "      <td>0</td>\n",
       "      <td>0</td>\n",
       "      <td>1</td>\n",
       "      <td>944092800</td>\n",
       "      <td>Entertainingl Funny!</td>\n",
       "      <td>Beetlejuice is a well written movie ..... ever...</td>\n",
       "      <td>b'beetlejuic well written movi everyth excel a...</td>\n",
       "    </tr>\n",
       "    <tr>\n",
       "      <th>417838</th>\n",
       "      <td>451855</td>\n",
       "      <td>B00004CXX9</td>\n",
       "      <td>AJH6LUC1UT1ON</td>\n",
       "      <td>The Phantom of the Opera</td>\n",
       "      <td>0</td>\n",
       "      <td>0</td>\n",
       "      <td>1</td>\n",
       "      <td>946857600</td>\n",
       "      <td>FANTASTIC!</td>\n",
       "      <td>Beetlejuice is an excellent and funny movie. K...</td>\n",
       "      <td>b'beetlejuic excel funni movi keaton hilari wa...</td>\n",
       "    </tr>\n",
       "    <tr>\n",
       "      <th>346037</th>\n",
       "      <td>374339</td>\n",
       "      <td>B00004CI84</td>\n",
       "      <td>AZRJH4JFB59VC</td>\n",
       "      <td>Lynwood E. Hines</td>\n",
       "      <td>21</td>\n",
       "      <td>23</td>\n",
       "      <td>0</td>\n",
       "      <td>997228800</td>\n",
       "      <td>Great movie, terrible DVD</td>\n",
       "      <td>I am continually amazed at the shoddy treatmen...</td>\n",
       "      <td>b'continu amaz shoddi treatment movi get dvd r...</td>\n",
       "    </tr>\n",
       "    <tr>\n",
       "      <th>333930</th>\n",
       "      <td>361317</td>\n",
       "      <td>B00005IX96</td>\n",
       "      <td>A3ODTU118FKC5J</td>\n",
       "      <td>Rosemarie E Smith</td>\n",
       "      <td>5</td>\n",
       "      <td>7</td>\n",
       "      <td>1</td>\n",
       "      <td>1010275200</td>\n",
       "      <td>A little piece of heaven.</td>\n",
       "      <td>For years I have been trying to simulate a tru...</td>\n",
       "      <td>b'year tri simul truli italian espresso cappuc...</td>\n",
       "    </tr>\n",
       "    <tr>\n",
       "      <th>346114</th>\n",
       "      <td>374420</td>\n",
       "      <td>B00004CI84</td>\n",
       "      <td>A1ZH086GZYL5MZ</td>\n",
       "      <td>Doug DeBolt</td>\n",
       "      <td>2</td>\n",
       "      <td>2</td>\n",
       "      <td>1</td>\n",
       "      <td>1013385600</td>\n",
       "      <td>A little gross, a lot of fun</td>\n",
       "      <td>Michael Keaton was already on his way to being...</td>\n",
       "      <td>b'michael keaton alreadi way major star play g...</td>\n",
       "    </tr>\n",
       "  </tbody>\n",
       "</table>\n",
       "</div>"
      ],
      "text/plain": [
       "            Id   ProductId          UserId               ProfileName  \\\n",
       "417839  451856  B00004CXX9   AIUWLEQ1ADEG5          Elizabeth Medina   \n",
       "417838  451855  B00004CXX9   AJH6LUC1UT1ON  The Phantom of the Opera   \n",
       "346037  374339  B00004CI84   AZRJH4JFB59VC          Lynwood E. Hines   \n",
       "333930  361317  B00005IX96  A3ODTU118FKC5J         Rosemarie E Smith   \n",
       "346114  374420  B00004CI84  A1ZH086GZYL5MZ               Doug DeBolt   \n",
       "\n",
       "        HelpfulnessNumerator  HelpfulnessDenominator  Score        Time  \\\n",
       "417839                     0                       0      1   944092800   \n",
       "417838                     0                       0      1   946857600   \n",
       "346037                    21                      23      0   997228800   \n",
       "333930                     5                       7      1  1010275200   \n",
       "346114                     2                       2      1  1013385600   \n",
       "\n",
       "                             Summary  \\\n",
       "417839          Entertainingl Funny!   \n",
       "417838                    FANTASTIC!   \n",
       "346037     Great movie, terrible DVD   \n",
       "333930     A little piece of heaven.   \n",
       "346114  A little gross, a lot of fun   \n",
       "\n",
       "                                                     Text  \\\n",
       "417839  Beetlejuice is a well written movie ..... ever...   \n",
       "417838  Beetlejuice is an excellent and funny movie. K...   \n",
       "346037  I am continually amazed at the shoddy treatmen...   \n",
       "333930  For years I have been trying to simulate a tru...   \n",
       "346114  Michael Keaton was already on his way to being...   \n",
       "\n",
       "                                              CleanedText  \n",
       "417839  b'beetlejuic well written movi everyth excel a...  \n",
       "417838  b'beetlejuic excel funni movi keaton hilari wa...  \n",
       "346037  b'continu amaz shoddi treatment movi get dvd r...  \n",
       "333930  b'year tri simul truli italian espresso cappuc...  \n",
       "346114  b'michael keaton alreadi way major star play g...  "
      ]
     },
     "execution_count": 14,
     "metadata": {},
     "output_type": "execute_result"
    }
   ],
   "source": [
    "final_sample.sort_values('Time',inplace=True)\n",
    "final_sample.head(5)\n",
    "#Splitting on time based"
   ]
  },
  {
   "cell_type": "code",
   "execution_count": 15,
   "metadata": {},
   "outputs": [
    {
     "name": "stdout",
     "output_type": "stream",
     "text": [
      "(24500, 1850)\n",
      "<class 'scipy.sparse.csr.csr_matrix'>\n",
      "(10500, 1850)\n",
      "<class 'scipy.sparse.csr.csr_matrix'>\n",
      "(15000, 1850)\n",
      "<class 'scipy.sparse.csr.csr_matrix'>\n"
     ]
    }
   ],
   "source": [
    "#%%pixie_debugger\n",
    "#import pixiedust\n",
    "import warnings\n",
    "warnings.filterwarnings('ignore')\n",
    "\n",
    "import numpy as np\n",
    "import pandas as pd\n",
    "import matplotlib.pyplot as plt\n",
    "from sklearn.cross_validation import train_test_split\n",
    "from sklearn.neighbors import KNeighborsClassifier\n",
    "from sklearn.metrics import accuracy_score\n",
    "from sklearn.cross_validation import cross_val_score\n",
    "from collections import Counter\n",
    "from sklearn.metrics import accuracy_score\n",
    "from sklearn import cross_validation\n",
    "from sklearn.model_selection import train_test_split\n",
    "\n",
    "\n",
    "#Splitting the data in o train and test data sets\n",
    "X_train, X_test, y_train, y_test=train_test_split(final_sample['CleanedText'].values,final_sample['Score'].values,test_size=0.3,random_state=0)\n",
    "\n",
    "# split the train data set into cross validation train and cross validation test\n",
    "X_train, X_cv, y_train, y_cv = cross_validation.train_test_split(X_train, y_train, test_size=0.3)\n",
    "\n",
    "count_vect = CountVectorizer(max_features=2500,min_df=50) \n",
    "X_train = count_vect.fit_transform(X_train)\n",
    "print(X_train.shape)\n",
    "print(type(X_train))\n",
    "\n",
    "X_cv=count_vect.transform(X_cv)\n",
    "print(X_cv.shape)\n",
    "print(type(X_cv))\n",
    "\n",
    "\n",
    "X_test=count_vect.transform(X_test)\n",
    "print(X_test.shape)\n",
    "print(type(X_test))\n"
   ]
  },
  {
   "cell_type": "code",
   "execution_count": 16,
   "metadata": {},
   "outputs": [
    {
     "name": "stdout",
     "output_type": "stream",
     "text": [
      "(24500, 1850)\n",
      "(15000, 1850)\n",
      "(10500, 1850)\n",
      "<class 'tuple'>\n"
     ]
    }
   ],
   "source": [
    "from sklearn import preprocessing\n",
    "\n",
    "X_train=preprocessing.normalize(X_train)\n",
    "print(X_train.shape)\n",
    "\n",
    "X_test=preprocessing.normalize(X_test)\n",
    "print(X_test.shape)\n",
    "\n",
    "X_cv=preprocessing.normalize(X_cv)\n",
    "print(X_cv.shape)\n",
    "\n",
    "print(type(X_test.shape))"
   ]
  },
  {
   "cell_type": "code",
   "execution_count": 17,
   "metadata": {},
   "outputs": [
    {
     "name": "stdout",
     "output_type": "stream",
     "text": [
      "<class 'pandas.core.frame.DataFrame'>\n",
      "(24500, 1850)\n",
      "<class 'pandas.core.frame.DataFrame'>\n",
      "(10500, 1850)\n",
      "<class 'pandas.core.frame.DataFrame'>\n",
      "(15000, 1850)\n"
     ]
    }
   ],
   "source": [
    "X_train=pd.DataFrame(X_train.toarray())\n",
    "print(type(X_train))\n",
    "print(X_train.shape)\n",
    "\n",
    "\n",
    "X_cv=pd.DataFrame(X_cv.toarray())\n",
    "print(type(X_cv))\n",
    "print(X_cv.shape)\n",
    "\n",
    "X_test=pd.DataFrame(X_test.toarray())\n",
    "print(type(X_test))\n",
    "print(X_test.shape)\n"
   ]
  },
  {
   "cell_type": "markdown",
   "metadata": {},
   "source": [
    "# BRUTE FORCE ALGORITHM"
   ]
  },
  {
   "cell_type": "code",
   "execution_count": 18,
   "metadata": {},
   "outputs": [
    {
     "name": "stdout",
     "output_type": "stream",
     "text": [
      "\n",
      "CV accuracy for k = 1 is 82%\n",
      "\n",
      "CV accuracy for k = 3 is 84%\n",
      "\n",
      "CV accuracy for k = 5 is 84%\n",
      "\n",
      "CV accuracy for k = 7 is 85%\n",
      "\n",
      "CV accuracy for k = 9 is 85%\n",
      "\n",
      "CV accuracy for k = 11 is 85%\n",
      "\n",
      "CV accuracy for k = 13 is 85%\n",
      "\n",
      "CV accuracy for k = 15 is 85%\n",
      "\n",
      "CV accuracy for k = 17 is 85%\n",
      "\n",
      "CV accuracy for k = 19 is 85%\n",
      "\n",
      "CV accuracy for k = 21 is 85%\n",
      "\n",
      "CV accuracy for k = 23 is 85%\n",
      "\n",
      "CV accuracy for k = 25 is 85%\n",
      "\n",
      "CV accuracy for k = 27 is 85%\n",
      "\n",
      "CV accuracy for k = 29 is 85%\n",
      "Wall time: 7min 45s\n"
     ]
    }
   ],
   "source": [
    "%%time\n",
    "from time import time\n",
    "for i in range(1,30,2):\n",
    "    # instantiate learning model (k = 30)\n",
    "    knn = KNeighborsClassifier(n_neighbors=i,algorithm='brute')\n",
    "\n",
    "    # fitting the model on crossvalidation train\n",
    "    knn.fit(X_train, y_train)\n",
    "\n",
    "    # predict the response on the crossvalidation train\n",
    "    pred = knn.predict(X_cv)\n",
    "\n",
    "    # evaluate CV accuracy\n",
    "    acc = accuracy_score(y_cv, pred, normalize=True) * float(100)\n",
    "    print('\\nCV accuracy for k = %d is %d%%' % (i, acc))\n",
    "    \n",
    "#knn = KNeighborsClassifier(1)\n",
    "#knn.fit(X_train,y_train)\n",
    "#pred = knn.predict(X_test)\n",
    "#acc = accuracy_score(y_test, pred, normalize=True) * float(100)\n",
    "#print('\\n****Test accuracy for k = 1 is %d%%' % (acc))"
   ]
  },
  {
   "cell_type": "code",
   "execution_count": 23,
   "metadata": {},
   "outputs": [
    {
     "name": "stdout",
     "output_type": "stream",
     "text": [
      "\n",
      "****Test accuracy for k = 11 is 85%\n",
      "'\n",
      "****Precision on test set: 0.861\n",
      "'\n",
      "****Recall on test set: 0.992\n",
      "'\n",
      "****F1-Score on test set: 0.921\n",
      "'\n",
      "****Confusion Matrix of test set:\n",
      " [ [TN  FP]\n",
      " [FN TP] ]\n",
      "\n",
      "Wall time: 2min 2s\n"
     ]
    },
    {
     "data": {
      "image/png": "[encoded data removed]",
      "text/plain": [
       "<Figure size 432x288 with 2 Axes>"
      ]
     },
     "metadata": {},
     "output_type": "display_data"
    }
   ],
   "source": [
    "%%time\n",
    "#Metrics \n",
    "from sklearn.metrics import accuracy_score \n",
    "from sklearn.metrics import confusion_matrix \n",
    "from sklearn.metrics import precision_score \n",
    "from sklearn.metrics import f1_score \n",
    "from sklearn.metrics import recall_score \n",
    "\n",
    "knn = KNeighborsClassifier(n_neighbors=13,algorithm='brute')\n",
    "knn.fit(X_train,y_train)\n",
    "pred = knn.predict(X_test)\n",
    "acc = accuracy_score(y_test, pred, normalize=True) * float(100)\n",
    "print('\\n****Test accuracy for k = 11 is %d%%' % (acc))\n",
    "print(\"'\\n****Precision on test set: %0.3f\"%(precision_score(y_test, pred))) \n",
    "print(\"'\\n****Recall on test set: %0.3f\"%(recall_score(y_test, pred))) \n",
    "print(\"'\\n****F1-Score on test set: %0.3f\"%(f1_score(y_test, pred))) \n",
    "print(\"'\\n****Confusion Matrix of test set:\\n [ [TN  FP]\\n [FN TP] ]\\n\") \n",
    "df_cm = pd.DataFrame(confusion_matrix(y_test, pred), range(2),range(2)) \n",
    "sns.set(font_scale=1.5)\n",
    "sns.heatmap(df_cm, annot=True,annot_kws={\"size\": 16}, fmt='g')\n",
    "\n"
   ]
  },
  {
   "cell_type": "markdown",
   "metadata": {},
   "source": [
    "# KD_TREE ALGORITHM"
   ]
  },
  {
   "cell_type": "code",
   "execution_count": 24,
   "metadata": {},
   "outputs": [
    {
     "name": "stdout",
     "output_type": "stream",
     "text": [
      "\n",
      "CV accuracy for k = 1 is 82%\n",
      "\n",
      "CV accuracy for k = 3 is 84%\n",
      "\n",
      "CV accuracy for k = 5 is 84%\n",
      "\n",
      "CV accuracy for k = 7 is 85%\n",
      "\n",
      "CV accuracy for k = 9 is 85%\n",
      "\n",
      "CV accuracy for k = 11 is 85%\n",
      "\n",
      "CV accuracy for k = 13 is 85%\n",
      "\n",
      "CV accuracy for k = 15 is 85%\n",
      "\n",
      "CV accuracy for k = 17 is 85%\n",
      "\n",
      "CV accuracy for k = 19 is 85%\n",
      "\n",
      "CV accuracy for k = 21 is 85%\n",
      "\n",
      "CV accuracy for k = 23 is 85%\n",
      "\n",
      "CV accuracy for k = 25 is 85%\n",
      "\n",
      "CV accuracy for k = 27 is 85%\n",
      "\n",
      "CV accuracy for k = 29 is 85%\n",
      "Wall time: 4h 25min 18s\n"
     ]
    }
   ],
   "source": [
    "%%time\n",
    "from time import time\n",
    "for i in range(1,30,2):\n",
    "    # instantiate learning model (k = 30)\n",
    "    knn = KNeighborsClassifier(n_neighbors=i,algorithm='kd_tree')\n",
    "\n",
    "    # fitting the model on crossvalidation train\n",
    "    knn.fit(X_train, y_train)\n",
    "\n",
    "    # predict the response on the crossvalidation train\n",
    "    pred = knn.predict(X_cv)\n",
    "\n",
    "    # evaluate CV accuracy\n",
    "    acc = accuracy_score(y_cv, pred, normalize=True) * float(100)\n",
    "    print('\\nCV accuracy for k = %d is %d%%' % (i, acc))"
   ]
  },
  {
   "cell_type": "code",
   "execution_count": 25,
   "metadata": {},
   "outputs": [
    {
     "name": "stdout",
     "output_type": "stream",
     "text": [
      "\n",
      "****Test accuracy for k = 13 is 85%\n",
      "'\n",
      "****Precision on test set: 0.861\n",
      "'\n",
      "****Recall on test set: 0.992\n",
      "'\n",
      "****F1-Score on test set: 0.922\n",
      "'\n",
      "****Confusion Matrix of test set:\n",
      " [ [TN  FP]\n",
      " [FN TP] ]\n",
      "\n",
      "Wall time: 24min 45s\n"
     ]
    },
    {
     "data": {
      "image/png": "[encoded data removed]",
      "text/plain": [
       "<Figure size 432x288 with 2 Axes>"
      ]
     },
     "metadata": {},
     "output_type": "display_data"
    }
   ],
   "source": [
    "%%time\n",
    "#Metrics \n",
    "from sklearn.metrics import accuracy_score \n",
    "from sklearn.metrics import confusion_matrix \n",
    "from sklearn.metrics import precision_score \n",
    "from sklearn.metrics import f1_score \n",
    "from sklearn.metrics import recall_score \n",
    "\n",
    "knn = KNeighborsClassifier(n_neighbors=13,algorithm='kd_tree')\n",
    "knn.fit(X_train,y_train)\n",
    "pred = knn.predict(X_test)\n",
    "acc = accuracy_score(y_test, pred, normalize=True) * float(100)\n",
    "print('\\n****Test accuracy for k = 13 is %d%%' % (acc))\n",
    "print(\"'\\n****Precision on test set: %0.3f\"%(precision_score(y_test, pred))) \n",
    "print(\"'\\n****Recall on test set: %0.3f\"%(recall_score(y_test, pred))) \n",
    "print(\"'\\n****F1-Score on test set: %0.3f\"%(f1_score(y_test, pred))) \n",
    "print(\"'\\n****Confusion Matrix of test set:\\n [ [TN  FP]\\n [FN TP] ]\\n\") \n",
    "df_cm = pd.DataFrame(confusion_matrix(y_test, pred), range(2),range(2)) \n",
    "sns.set(font_scale=1.5)\n",
    "sns.heatmap(df_cm, annot=True,annot_kws={\"size\": 16}, fmt='g')\n"
   ]
  },
  {
   "cell_type": "markdown",
   "metadata": {},
   "source": [
    "# TF-IDF"
   ]
  },
  {
   "cell_type": "code",
   "execution_count": 30,
   "metadata": {},
   "outputs": [
    {
     "name": "stdout",
     "output_type": "stream",
     "text": [
      "(24500, 1851)\n",
      "<class 'scipy.sparse.csr.csr_matrix'>\n",
      "(10500, 1851)\n",
      "<class 'scipy.sparse.csr.csr_matrix'>\n",
      "(15000, 1851)\n",
      "<class 'scipy.sparse.csr.csr_matrix'>\n"
     ]
    }
   ],
   "source": [
    "\n",
    "import numpy as np\n",
    "import pandas as pd\n",
    "import matplotlib.pyplot as plt\n",
    "from sklearn.cross_validation import train_test_split\n",
    "from sklearn.neighbors import KNeighborsClassifier\n",
    "from sklearn.metrics import accuracy_score\n",
    "from sklearn.cross_validation import cross_val_score\n",
    "from collections import Counter\n",
    "from sklearn.metrics import accuracy_score\n",
    "from sklearn import cross_validation\n",
    "from sklearn.model_selection import train_test_split\n",
    "\n",
    "\n",
    "#Splitting the data in o train and test data sets\n",
    "X_train, X_test, y_train, y_test=train_test_split(final_sample['CleanedText'].values,final_sample['Score'].values,test_size=0.3,random_state=0)\n",
    "\n",
    "# split the train data set into cross validation train and cross validation test\n",
    "X_train, X_cv, y_train, y_cv = cross_validation.train_test_split(X_train, y_train, test_size=0.3)\n",
    "\n",
    "\n",
    "tf_idf_vect = TfidfVectorizer(max_features=2500,min_df=50)\n",
    "X_train = tf_idf_vect.fit_transform(X_train)\n",
    "print(X_train.shape)\n",
    "print(type(X_train))\n",
    "\n",
    "X_cv=tf_idf_vect.transform(X_cv)\n",
    "print(X_cv.shape)\n",
    "print(type(X_cv))\n",
    "\n",
    "X_test = tf_idf_vect.transform(X_test)\n",
    "print(X_test.shape)\n",
    "print(type(X_test))\n",
    "\n"
   ]
  },
  {
   "cell_type": "code",
   "execution_count": 31,
   "metadata": {},
   "outputs": [
    {
     "name": "stdout",
     "output_type": "stream",
     "text": [
      "(24500, 1851)\n",
      "(15000, 1851)\n",
      "(10500, 1851)\n",
      "<class 'tuple'>\n"
     ]
    }
   ],
   "source": [
    "from sklearn import preprocessing\n",
    "\n",
    "X_train=preprocessing.normalize(X_train)\n",
    "print(X_train.shape)\n",
    "\n",
    "X_test=preprocessing.normalize(X_test)\n",
    "print(X_test.shape)\n",
    "\n",
    "X_cv=preprocessing.normalize(X_cv)\n",
    "print(X_cv.shape)\n",
    "\n",
    "print(type(X_test.shape))"
   ]
  },
  {
   "cell_type": "code",
   "execution_count": 32,
   "metadata": {},
   "outputs": [
    {
     "name": "stdout",
     "output_type": "stream",
     "text": [
      "<class 'pandas.core.frame.DataFrame'>\n",
      "(24500, 1851)\n",
      "<class 'pandas.core.frame.DataFrame'>\n",
      "(10500, 1851)\n",
      "<class 'pandas.core.frame.DataFrame'>\n",
      "(15000, 1851)\n"
     ]
    }
   ],
   "source": [
    "X_train=pd.DataFrame(X_train.toarray())\n",
    "print(type(X_train))\n",
    "print(X_train.shape)\n",
    "\n",
    "\n",
    "X_cv=pd.DataFrame(X_cv.toarray())\n",
    "print(type(X_cv))\n",
    "print(X_cv.shape)\n",
    "\n",
    "X_test=pd.DataFrame(X_test.toarray())\n",
    "print(type(X_test))\n",
    "print(X_test.shape)"
   ]
  },
  {
   "cell_type": "markdown",
   "metadata": {},
   "source": [
    "# BRUTE FORCE ALGORITHM"
   ]
  },
  {
   "cell_type": "code",
   "execution_count": 33,
   "metadata": {},
   "outputs": [
    {
     "name": "stdout",
     "output_type": "stream",
     "text": [
      "\n",
      "CV accuracy for k = 1 is 83%\n",
      "\n",
      "CV accuracy for k = 3 is 85%\n",
      "\n",
      "CV accuracy for k = 5 is 85%\n",
      "\n",
      "CV accuracy for k = 7 is 85%\n",
      "\n",
      "CV accuracy for k = 9 is 85%\n",
      "\n",
      "CV accuracy for k = 11 is 85%\n",
      "\n",
      "CV accuracy for k = 13 is 85%\n",
      "\n",
      "CV accuracy for k = 15 is 85%\n",
      "\n",
      "CV accuracy for k = 17 is 85%\n",
      "\n",
      "CV accuracy for k = 19 is 85%\n",
      "\n",
      "CV accuracy for k = 21 is 85%\n",
      "\n",
      "CV accuracy for k = 23 is 85%\n",
      "\n",
      "CV accuracy for k = 25 is 85%\n",
      "\n",
      "CV accuracy for k = 27 is 85%\n",
      "\n",
      "CV accuracy for k = 29 is 85%\n",
      "Wall time: 14min 48s\n"
     ]
    }
   ],
   "source": [
    "%%time\n",
    "from time import time\n",
    "for i in range(1,30,2):\n",
    "    # instantiate learning model (k = 30)\n",
    "    knn = KNeighborsClassifier(n_neighbors=i,algorithm='brute')\n",
    "\n",
    "    # fitting the model on crossvalidation train\n",
    "    knn.fit(X_train, y_train)\n",
    "\n",
    "    # predict the response on the crossvalidation train\n",
    "    pred = knn.predict(X_cv)\n",
    "\n",
    "    # evaluate CV accuracy\n",
    "    acc = accuracy_score(y_cv, pred, normalize=True) * float(100)\n",
    "    print('\\nCV accuracy for k = %d is %d%%' % (i, acc))"
   ]
  },
  {
   "cell_type": "code",
   "execution_count": 34,
   "metadata": {},
   "outputs": [
    {
     "name": "stdout",
     "output_type": "stream",
     "text": [
      "\n",
      "****Test accuracy for k = 11 is 85%\n",
      "'\n",
      "****Precision on test set: 0.860\n",
      "'\n",
      "****Recall on test set: 0.994\n",
      "'\n",
      "****F1-Score on test set: 0.922\n",
      "'\n",
      "****Confusion Matrix of test set:\n",
      " [ [TN  FP]\n",
      " [FN TP] ]\n",
      "\n",
      "Wall time: 6min 6s\n"
     ]
    },
    {
     "data": {
      "image/png": "[encoded data removed]",
      "text/plain": [
       "<Figure size 432x288 with 2 Axes>"
      ]
     },
     "metadata": {},
     "output_type": "display_data"
    }
   ],
   "source": [
    "%%time\n",
    "#Metrics \n",
    "from sklearn.metrics import accuracy_score \n",
    "from sklearn.metrics import confusion_matrix \n",
    "from sklearn.metrics import precision_score \n",
    "from sklearn.metrics import f1_score \n",
    "from sklearn.metrics import recall_score \n",
    "\n",
    "knn = KNeighborsClassifier(n_neighbors=13,algorithm='brute')\n",
    "knn.fit(X_train,y_train)\n",
    "pred = knn.predict(X_test)\n",
    "acc = accuracy_score(y_test, pred, normalize=True) * float(100)\n",
    "print('\\n****Test accuracy for k = 11 is %d%%' % (acc))\n",
    "print(\"'\\n****Precision on test set: %0.3f\"%(precision_score(y_test, pred))) \n",
    "print(\"'\\n****Recall on test set: %0.3f\"%(recall_score(y_test, pred))) \n",
    "print(\"'\\n****F1-Score on test set: %0.3f\"%(f1_score(y_test, pred))) \n",
    "print(\"'\\n****Confusion Matrix of test set:\\n [ [TN  FP]\\n [FN TP] ]\\n\") \n",
    "df_cm = pd.DataFrame(confusion_matrix(y_test, pred), range(2),range(2)) \n",
    "sns.set(font_scale=1.5)\n",
    "sns.heatmap(df_cm, annot=True,annot_kws={\"size\": 16}, fmt='g')"
   ]
  },
  {
   "cell_type": "markdown",
   "metadata": {},
   "source": [
    "# KD_TREE"
   ]
  },
  {
   "cell_type": "code",
   "execution_count": 35,
   "metadata": {},
   "outputs": [
    {
     "name": "stdout",
     "output_type": "stream",
     "text": [
      "\n",
      "CV accuracy for k = 1 is 83%\n",
      "\n",
      "CV accuracy for k = 3 is 85%\n",
      "\n",
      "CV accuracy for k = 5 is 85%\n",
      "\n",
      "CV accuracy for k = 7 is 85%\n",
      "\n",
      "CV accuracy for k = 9 is 85%\n",
      "\n",
      "CV accuracy for k = 11 is 85%\n",
      "\n",
      "CV accuracy for k = 13 is 85%\n",
      "\n",
      "CV accuracy for k = 15 is 85%\n",
      "\n",
      "CV accuracy for k = 17 is 85%\n",
      "\n",
      "CV accuracy for k = 19 is 85%\n",
      "Wall time: 2h 54min 33s\n"
     ]
    }
   ],
   "source": [
    "%%time\n",
    "from time import time\n",
    "for i in range(1,20,2):\n",
    "    # instantiate learning model (k = 30)\n",
    "    knn = KNeighborsClassifier(n_neighbors=i,algorithm='kd_tree')\n",
    "\n",
    "    # fitting the model on crossvalidation train\n",
    "    knn.fit(X_train, y_train)\n",
    "\n",
    "    # predict the response on the crossvalidation train\n",
    "    pred = knn.predict(X_cv)\n",
    "\n",
    "    # evaluate CV accuracy\n",
    "    acc = accuracy_score(y_cv, pred, normalize=True) * float(100)\n",
    "    print('\\nCV accuracy for k = %d is %d%%' % (i, acc))"
   ]
  },
  {
   "cell_type": "code",
   "execution_count": 36,
   "metadata": {},
   "outputs": [
    {
     "name": "stdout",
     "output_type": "stream",
     "text": [
      "\n",
      "****Test accuracy for k = 13 is 85%\n",
      "'\n",
      "****Precision on test set: 0.860\n",
      "'\n",
      "****Recall on test set: 0.994\n",
      "'\n",
      "****F1-Score on test set: 0.922\n",
      "'\n",
      "****Confusion Matrix of test set:\n",
      " [ [TN  FP]\n",
      " [FN TP] ]\n",
      "\n",
      "Wall time: 23min 46s\n"
     ]
    },
    {
     "data": {
      "image/png": "[encoded data removed]",
      "text/plain": [
       "<Figure size 432x288 with 2 Axes>"
      ]
     },
     "metadata": {},
     "output_type": "display_data"
    }
   ],
   "source": [
    "%%time\n",
    "#Metrics \n",
    "from sklearn.metrics import accuracy_score \n",
    "from sklearn.metrics import confusion_matrix \n",
    "from sklearn.metrics import precision_score \n",
    "from sklearn.metrics import f1_score \n",
    "from sklearn.metrics import recall_score \n",
    "\n",
    "knn = KNeighborsClassifier(n_neighbors=13,algorithm='kd_tree')\n",
    "knn.fit(X_train,y_train)\n",
    "pred = knn.predict(X_test)\n",
    "acc = accuracy_score(y_test, pred, normalize=True) * float(100)\n",
    "print('\\n****Test accuracy for k = 13 is %d%%' % (acc))\n",
    "print(\"'\\n****Precision on test set: %0.3f\"%(precision_score(y_test, pred))) \n",
    "print(\"'\\n****Recall on test set: %0.3f\"%(recall_score(y_test, pred))) \n",
    "print(\"'\\n****F1-Score on test set: %0.3f\"%(f1_score(y_test, pred))) \n",
    "print(\"'\\n****Confusion Matrix of test set:\\n [ [TN  FP]\\n [FN TP] ]\\n\") \n",
    "df_cm = pd.DataFrame(confusion_matrix(y_test, pred), range(2),range(2)) \n",
    "sns.set(font_scale=1.5)\n",
    "sns.heatmap(df_cm, annot=True,annot_kws={\"size\": 16}, fmt='g')"
   ]
  },
  {
   "cell_type": "markdown",
   "metadata": {},
   "source": [
    "# AVG-W2V"
   ]
  },
  {
   "cell_type": "code",
   "execution_count": 37,
   "metadata": {},
   "outputs": [],
   "source": [
    "import warnings\n",
    "warnings.filterwarnings(\"ignore\")\n",
    "import gensim\n",
    "i=0\n",
    "list_of_sent=[]\n",
    "for sent in final_sample['Text'].values:\n",
    "    filtered_sentence=[]\n",
    "    sent=cleanhtml(sent)\n",
    "    for w in sent.split():\n",
    "        for cleaned_words in cleanpunc(w).split():\n",
    "            if(cleaned_words.isalpha()):    \n",
    "                filtered_sentence.append(cleaned_words.lower())\n",
    "            else:\n",
    "                continue \n",
    "    list_of_sent.append(filtered_sentence)"
   ]
  },
  {
   "cell_type": "code",
   "execution_count": 38,
   "metadata": {},
   "outputs": [],
   "source": [
    "import numpy as np\n",
    "import pandas as pd\n",
    "import matplotlib.pyplot as plt\n",
    "from sklearn.cross_validation import train_test_split\n",
    "from sklearn.neighbors import KNeighborsClassifier\n",
    "from sklearn.metrics import accuracy_score\n",
    "from sklearn.cross_validation import cross_val_score\n",
    "from collections import Counter\n",
    "from sklearn.metrics import accuracy_score\n",
    "from sklearn import cross_validation\n",
    "from sklearn.model_selection import train_test_split\n",
    "\n",
    "import warnings\n",
    "warnings.filterwarnings('ignore')\n",
    "\n",
    "\n",
    "from gensim.models import Word2Vec\n",
    "from gensim.models import KeyedVectors\n",
    "\n",
    "w2v_model=gensim.models.Word2Vec(list_of_sent,min_count=5,size=50, workers=4) \n",
    "#training our own model"
   ]
  },
  {
   "cell_type": "code",
   "execution_count": 41,
   "metadata": {},
   "outputs": [
    {
     "name": "stdout",
     "output_type": "stream",
     "text": [
      "50000\n",
      "50\n",
      "Wall time: 17.2 s\n"
     ]
    }
   ],
   "source": [
    "%%time\n",
    "# average Word2Vec\n",
    "# compute average word2vec for each review.\n",
    "sent_vectors = []; # the avg-w2v for each sentence/review is stored in this list\n",
    "for sent in list_of_sent: # for each review/sentence\n",
    "    sent_vec = np.zeros(50) # as word vectors are of zero length\n",
    "    cnt_words =0; # num of words with a valid vector in the sentence/review\n",
    "    for word in sent: # for each word in a review/sentence\n",
    "        try:\n",
    "            vec = w2v_model.wv[word]\n",
    "            sent_vec += vec\n",
    "            cnt_words += 1\n",
    "        except:\n",
    "            pass\n",
    "    sent_vec /= cnt_words\n",
    "    sent_vectors.append(sent_vec)\n",
    "print(len(sent_vectors))\n",
    "print(len(sent_vectors[0]))"
   ]
  },
  {
   "cell_type": "code",
   "execution_count": 42,
   "metadata": {},
   "outputs": [
    {
     "data": {
      "text/plain": [
       "numpy.ndarray"
      ]
     },
     "execution_count": 42,
     "metadata": {},
     "output_type": "execute_result"
    }
   ],
   "source": [
    "A=np.array(sent_vectors)\n",
    "type(A)\n",
    "#conerting list into array uding numpy"
   ]
  },
  {
   "cell_type": "code",
   "execution_count": 43,
   "metadata": {},
   "outputs": [
    {
     "data": {
      "text/plain": [
       "False"
      ]
     },
     "execution_count": 43,
     "metadata": {},
     "output_type": "execute_result"
    }
   ],
   "source": [
    "np.isnan(A).any()"
   ]
  },
  {
   "cell_type": "code",
   "execution_count": 46,
   "metadata": {},
   "outputs": [
    {
     "name": "stdout",
     "output_type": "stream",
     "text": [
      "(24500, 50)\n",
      "(10500, 50)\n",
      "(15000, 50)\n"
     ]
    }
   ],
   "source": [
    "from sklearn import preprocessing\n",
    "from sklearn.model_selection import train_test_split\n",
    "\n",
    "avg_vec_norm = preprocessing.normalize(A)\n",
    "\n",
    "#Not shuffling the data as we want it on time basis\n",
    "X_train, X_test, y_train, y_test = train_test_split(A,final_sample['Score'].values,test_size=0.3,shuffle=False)\n",
    "\n",
    "# split the train data set into cross validation train and cross validation test\n",
    "X_train, X_cv, y_train, y_cv = cross_validation.train_test_split(X_train, y_train, test_size=0.3)\n",
    "\n",
    "print(X_train.shape)\n",
    "print(X_cv.shape)\n",
    "print(X_test.shape)\n"
   ]
  },
  {
   "cell_type": "markdown",
   "metadata": {},
   "source": [
    "# BRUTE FORCE ALGORITHM"
   ]
  },
  {
   "cell_type": "code",
   "execution_count": 47,
   "metadata": {},
   "outputs": [
    {
     "name": "stdout",
     "output_type": "stream",
     "text": [
      "\n",
      "CV accuracy for k = 1 is 82%\n",
      "\n",
      "CV accuracy for k = 3 is 85%\n",
      "\n",
      "CV accuracy for k = 5 is 86%\n",
      "\n",
      "CV accuracy for k = 7 is 86%\n",
      "\n",
      "CV accuracy for k = 9 is 87%\n",
      "\n",
      "CV accuracy for k = 11 is 87%\n",
      "\n",
      "CV accuracy for k = 13 is 87%\n",
      "\n",
      "CV accuracy for k = 15 is 87%\n",
      "\n",
      "CV accuracy for k = 17 is 87%\n",
      "\n",
      "CV accuracy for k = 19 is 87%\n",
      "\n",
      "CV accuracy for k = 21 is 87%\n",
      "\n",
      "CV accuracy for k = 23 is 87%\n",
      "\n",
      "CV accuracy for k = 25 is 87%\n",
      "\n",
      "CV accuracy for k = 27 is 86%\n",
      "\n",
      "CV accuracy for k = 29 is 87%\n",
      "Wall time: 2min 3s\n"
     ]
    }
   ],
   "source": [
    "%%time\n",
    "from time import time\n",
    "for i in range(1,30,2):\n",
    "    # instantiate learning model (k = 30)\n",
    "    knn = KNeighborsClassifier(n_neighbors=i,algorithm='brute')\n",
    "\n",
    "    # fitting the model on crossvalidation train\n",
    "    knn.fit(X_train, y_train)\n",
    "\n",
    "    # predict the response on the crossvalidation train\n",
    "    pred = knn.predict(X_cv)\n",
    "\n",
    "    # evaluate CV accuracy\n",
    "    acc = accuracy_score(y_cv, pred, normalize=True) * float(100)\n",
    "    print('\\nCV accuracy for k = %d is %d%%' % (i, acc))"
   ]
  },
  {
   "cell_type": "code",
   "execution_count": 48,
   "metadata": {},
   "outputs": [
    {
     "name": "stdout",
     "output_type": "stream",
     "text": [
      "\n",
      "****Test accuracy for k = 13 is 85%\n",
      "'\n",
      "****Precision on test set: 0.861\n",
      "'\n",
      "****Recall on test set: 0.978\n",
      "'\n",
      "****F1-Score on test set: 0.916\n",
      "'\n",
      "****Confusion Matrix of test set:\n",
      " [ [TN  FP]\n",
      " [FN TP] ]\n",
      "\n",
      "Wall time: 1min 25s\n"
     ]
    },
    {
     "data": {
      "image/png": "[encoded data removed]",
      "text/plain": [
       "<Figure size 432x288 with 2 Axes>"
      ]
     },
     "metadata": {},
     "output_type": "display_data"
    }
   ],
   "source": [
    "%%time\n",
    "#Metrics \n",
    "from sklearn.metrics import accuracy_score \n",
    "from sklearn.metrics import confusion_matrix \n",
    "from sklearn.metrics import precision_score \n",
    "from sklearn.metrics import f1_score \n",
    "from sklearn.metrics import recall_score \n",
    "\n",
    "knn = KNeighborsClassifier(n_neighbors=11,algorithm='brute')\n",
    "knn.fit(X_train,y_train)\n",
    "pred = knn.predict(X_test)\n",
    "acc = accuracy_score(y_test, pred, normalize=True) * float(100)\n",
    "print('\\n****Test accuracy for k = 11 is %d%%' % (acc))\n",
    "print(\"'\\n****Precision on test set: %0.3f\"%(precision_score(y_test, pred))) \n",
    "print(\"'\\n****Recall on test set: %0.3f\"%(recall_score(y_test, pred))) \n",
    "print(\"'\\n****F1-Score on test set: %0.3f\"%(f1_score(y_test, pred))) \n",
    "print(\"'\\n****Confusion Matrix of test set:\\n [ [TN  FP]\\n [FN TP] ]\\n\") \n",
    "df_cm = pd.DataFrame(confusion_matrix(y_test, pred), range(2),range(2)) \n",
    "sns.set(font_scale=1.5)\n",
    "sns.heatmap(df_cm, annot=True,annot_kws={\"size\": 16}, fmt='g')"
   ]
  },
  {
   "cell_type": "markdown",
   "metadata": {},
   "source": [
    "# KD-TREE "
   ]
  },
  {
   "cell_type": "code",
   "execution_count": 51,
   "metadata": {},
   "outputs": [
    {
     "name": "stdout",
     "output_type": "stream",
     "text": [
      "\n",
      "CV accuracy of the knn classifier for k = 1 is 82.676190%\n",
      "\n",
      "CV accuracy of the knn classifier for k = 3 is 85.866667%\n",
      "\n",
      "CV accuracy of the knn classifier for k = 5 is 86.638095%\n",
      "\n",
      "CV accuracy of the knn classifier for k = 7 is 86.866667%\n",
      "\n",
      "CV accuracy of the knn classifier for k = 9 is 87.095238%\n",
      "\n",
      "CV accuracy of the knn classifier for k = 11 is 87.123810%\n",
      "\n",
      "CV accuracy of the knn classifier for k = 13 is 87.095238%\n",
      "\n",
      "CV accuracy of the knn classifier for k = 15 is 87.000000%\n",
      "\n",
      "CV accuracy of the knn classifier for k = 17 is 87.190476%\n",
      "\n",
      "CV accuracy of the knn classifier for k = 19 is 87.219048%\n",
      "\n",
      "CV accuracy of the knn classifier for k = 21 is 87.333333%\n",
      "\n",
      "CV accuracy of the knn classifier for k = 23 is 87.190476%\n",
      "\n",
      "CV accuracy of the knn classifier for k = 25 is 87.066667%\n",
      "\n",
      "CV accuracy of the knn classifier for k = 27 is 86.971429%\n",
      "\n",
      "CV accuracy of the knn classifier for k = 29 is 87.009524%\n",
      "Wall time: 8h 54min 34s\n"
     ]
    }
   ],
   "source": [
    "%%time\n",
    "from time import time\n",
    "for i in range(1,30,2):\n",
    "    # instantiate learning model (k = 30)\n",
    "    knn = KNeighborsClassifier(n_neighbors=i,algorithm='kd_tree')\n",
    "\n",
    "    # fitting the model on crossvalidation train\n",
    "    knn.fit(X_train, y_train)\n",
    "\n",
    "    # predict the response on the crossvalidation train\n",
    "    pred = knn.predict(X_cv)\n",
    "\n",
    "    # evaluate CV accuracy\n",
    "    acc = accuracy_score(y_cv, pred, normalize=True) * float(100)\n",
    "    print('\\nCV accuracy of the knn classifier for k = %d is %f%%' % (i, acc))"
   ]
  },
  {
   "cell_type": "code",
   "execution_count": 52,
   "metadata": {},
   "outputs": [
    {
     "name": "stdout",
     "output_type": "stream",
     "text": [
      "\n",
      "****Test accuracy of the knn classifier for k = 21 is 84.993333%\n",
      "'\n",
      "****Precision on test set: 0.855\n",
      "'\n",
      "****Recall on test set: 0.984\n",
      "'\n",
      "****F1-Score on test set: 0.915\n",
      "'\n",
      "****Confusion Matrix of test set:\n",
      " [ [TN  FP]\n",
      " [FN TP] ]\n",
      "\n",
      "Wall time: 1min 21s\n"
     ]
    },
    {
     "data": {
      "image/png": "[encoded data removed]",
      "text/plain": [
       "<Figure size 432x288 with 2 Axes>"
      ]
     },
     "metadata": {},
     "output_type": "display_data"
    }
   ],
   "source": [
    "%%time\n",
    "#Metrics \n",
    "from sklearn.metrics import accuracy_score \n",
    "from sklearn.metrics import confusion_matrix \n",
    "from sklearn.metrics import precision_score \n",
    "from sklearn.metrics import f1_score \n",
    "from sklearn.metrics import recall_score \n",
    "\n",
    "knn = KNeighborsClassifier(n_neighbors=21,algorithm='kd_tree')\n",
    "knn.fit(X_train,y_train)\n",
    "pred = knn.predict(X_test)\n",
    "acc = accuracy_score(y_test, pred, normalize=True) * float(100)\n",
    "print('\\n****Test accuracy of the knn classifier for k = 21 is %f%%' % (acc))\n",
    "print(\"'\\n****Precision on test set: %0.3f\"%(precision_score(y_test, pred))) \n",
    "print(\"'\\n****Recall on test set: %0.3f\"%(recall_score(y_test, pred))) \n",
    "print(\"'\\n****F1-Score on test set: %0.3f\"%(f1_score(y_test, pred))) \n",
    "print(\"'\\n****Confusion Matrix of test set:\\n [ [TN  FP]\\n [FN TP] ]\\n\") \n",
    "df_cm = pd.DataFrame(confusion_matrix(y_test, pred), range(2),range(2)) \n",
    "sns.set(font_scale=1.5)\n",
    "sns.heatmap(df_cm, annot=True,annot_kws={\"size\": 16}, fmt='g')"
   ]
  },
  {
   "cell_type": "markdown",
   "metadata": {},
   "source": [
    "# TF-IDF_W2V"
   ]
  },
  {
   "cell_type": "code",
   "execution_count": 57,
   "metadata": {},
   "outputs": [
    {
     "data": {
      "text/plain": [
       "(50000, 27445)"
      ]
     },
     "execution_count": 57,
     "metadata": {},
     "output_type": "execute_result"
    }
   ],
   "source": [
    "tf_idf_vect = TfidfVectorizer(ngram_range=(0,1))\n",
    "final_tf_idf = tf_idf_vect.fit_transform(final_sample['CleanedText'].values)\n",
    "final_tf_idf.get_shape()"
   ]
  },
  {
   "cell_type": "code",
   "execution_count": 56,
   "metadata": {},
   "outputs": [],
   "source": [
    "# TF-IDF weighted Word2Vec\n",
    "tf_idf_feat = tf_idf_vect.get_feature_names() # tfidf words/col-names\n",
    "# final_tf_idf is the sparse matrix with row= sentence, col=word and cell_val = tfidf\n",
    "\n",
    "tfidf_sent_vectors = []; # the tfidf-w2v for each sentence/review is stored in this list\n",
    "row=0;\n",
    "for sent in list_of_sent: # for each review/sentence\n",
    "    sent_vec = np.zeros(50) # as word vectors are of zero length\n",
    "    weight_sum =0; # num of words with a valid vector in the sentence/review\n",
    "    for word in sent: # for each word in a review/sentence\n",
    "        try:\n",
    "            #import pdb; pdb.set_trace()\n",
    "            vec = w2v_model.wv[word]\n",
    "            # obtain the tf_idfidf of a word in a sentence/review\n",
    "            tf_idf = final_tf_idf[row, tf_idf_feat.index(word)]\n",
    "            sent_vec += (vec * tf_idf)\n",
    "            weight_sum += tf_idf\n",
    "        except:\n",
    "            pass\n",
    "    sent_vec /= weight_sum\n",
    "    tfidf_sent_vectors.append(sent_vec)\n",
    "    row += 1"
   ]
  },
  {
   "cell_type": "code",
   "execution_count": 58,
   "metadata": {},
   "outputs": [
    {
     "data": {
      "text/plain": [
       "array([-0.21869988, -0.59323639, -0.57038278,  0.04705684, -0.09912616,\n",
       "       -0.10050436, -0.56248766, -0.65312725,  0.76150977,  0.03838799,\n",
       "        0.30220333, -0.33952546,  0.16900865,  0.13370937, -0.15767699,\n",
       "        0.21830697,  0.00979195, -0.14994382, -0.44858625, -0.09563225,\n",
       "       -0.15701913, -0.12403605, -0.46520647, -0.28856974, -0.29099107,\n",
       "       -0.42829158, -0.02113629, -0.54719338,  0.01679843, -0.47504409,\n",
       "        0.66011233, -0.59496357,  0.27255388, -0.22784349,  0.02586302,\n",
       "        0.26194787,  0.46978518,  0.07000439, -0.21839312,  0.55986911,\n",
       "        0.42964042,  0.02972367, -0.06419189,  0.88738633,  0.17247727,\n",
       "        0.22681035,  0.37902101,  0.00563155, -0.45955544, -0.03128806])"
      ]
     },
     "execution_count": 58,
     "metadata": {},
     "output_type": "execute_result"
    }
   ],
   "source": [
    "tfidf_sent_vectors[0]"
   ]
  },
  {
   "cell_type": "code",
   "execution_count": 59,
   "metadata": {},
   "outputs": [
    {
     "data": {
      "text/plain": [
       "(50000, 50)"
      ]
     },
     "execution_count": 59,
     "metadata": {},
     "output_type": "execute_result"
    }
   ],
   "source": [
    "A=np.array(tfidf_sent_vectors)\n",
    "A.shape\n",
    "#Using numpy.array to convert the obtained list into array"
   ]
  },
  {
   "cell_type": "code",
   "execution_count": 60,
   "metadata": {},
   "outputs": [],
   "source": [
    "from sklearn.preprocessing import Imputer\n",
    "\n",
    "Tf_idf_w2v = Imputer().fit_transform(A)\n",
    "#Imputer function to fill the missing data"
   ]
  },
  {
   "cell_type": "code",
   "execution_count": 64,
   "metadata": {},
   "outputs": [
    {
     "name": "stdout",
     "output_type": "stream",
     "text": [
      "(24500, 50)\n",
      "(10500, 50)\n",
      "(15000, 50)\n"
     ]
    }
   ],
   "source": [
    "from sklearn import preprocessing\n",
    "from sklearn.model_selection import train_test_split\n",
    "\n",
    "avg_vec_norm = preprocessing.normalize(Tf_idf_w2v)\n",
    "\n",
    "#Not shuffling the data as we want it on time basis\n",
    "X_train, X_test, y_train, y_test = train_test_split(Tf_idf_w2v,final_sample['Score'].values,test_size=0.3,shuffle=False)\n",
    "\n",
    "# split the train data set into cross validation train and cross validation test\n",
    "X_train, X_cv, y_train, y_cv = cross_validation.train_test_split(X_train, y_train, test_size=0.3)\n",
    "\n",
    "print(X_train.shape)\n",
    "print(X_cv.shape)\n",
    "print(X_test.shape)"
   ]
  },
  {
   "cell_type": "markdown",
   "metadata": {},
   "source": [
    "# BRUTE FORCE "
   ]
  },
  {
   "cell_type": "code",
   "execution_count": 65,
   "metadata": {},
   "outputs": [
    {
     "name": "stdout",
     "output_type": "stream",
     "text": [
      "\n",
      "CV accuracy of the knn classifier for k = 1 is 79.457143%\n",
      "\n",
      "CV accuracy of the knn classifier for k = 3 is 83.295238%\n",
      "\n",
      "CV accuracy of the knn classifier for k = 5 is 84.847619%\n",
      "\n",
      "CV accuracy of the knn classifier for k = 7 is 85.609524%\n",
      "\n",
      "CV accuracy of the knn classifier for k = 9 is 85.714286%\n",
      "\n",
      "CV accuracy of the knn classifier for k = 11 is 85.809524%\n",
      "\n",
      "CV accuracy of the knn classifier for k = 13 is 85.838095%\n",
      "\n",
      "CV accuracy of the knn classifier for k = 15 is 85.809524%\n",
      "\n",
      "CV accuracy of the knn classifier for k = 17 is 85.838095%\n",
      "\n",
      "CV accuracy of the knn classifier for k = 19 is 85.952381%\n",
      "\n",
      "CV accuracy of the knn classifier for k = 21 is 85.933333%\n",
      "\n",
      "CV accuracy of the knn classifier for k = 23 is 85.923810%\n",
      "\n",
      "CV accuracy of the knn classifier for k = 25 is 85.942857%\n",
      "\n",
      "CV accuracy of the knn classifier for k = 27 is 85.847619%\n",
      "\n",
      "CV accuracy of the knn classifier for k = 29 is 85.800000%\n",
      "Wall time: 1min 46s\n"
     ]
    }
   ],
   "source": [
    "%%time\n",
    "from time import time\n",
    "for i in range(1,30,2):\n",
    "    # instantiate learning model (k = 30)\n",
    "    knn = KNeighborsClassifier(n_neighbors=i,algorithm='brute')\n",
    "\n",
    "    # fitting the model on crossvalidation train\n",
    "    knn.fit(X_train, y_train)\n",
    "\n",
    "    # predict the response on the crossvalidation train\n",
    "    pred = knn.predict(X_cv)\n",
    "\n",
    "    # evaluate CV accuracy\n",
    "    acc = accuracy_score(y_cv, pred, normalize=True) * float(100)\n",
    "    print('\\nCV accuracy of the knn classifier for k = %d is %f%%' % (i, acc))"
   ]
  },
  {
   "cell_type": "code",
   "execution_count": 66,
   "metadata": {},
   "outputs": [
    {
     "name": "stdout",
     "output_type": "stream",
     "text": [
      "\n",
      "****Test accuracy of the knn classifier for k = 19 is 83.213333%\n",
      "'\n",
      "****Precision on test set: 0.837\n",
      "'\n",
      "****Recall on test set: 0.988\n",
      "'\n",
      "****F1-Score on test set: 0.907\n",
      "'\n",
      "****Confusion Matrix of test set:\n",
      " [ [TN  FP]\n",
      " [FN TP] ]\n",
      "\n",
      "Wall time: 1min 12s\n"
     ]
    },
    {
     "data": {
      "image/png": "[encoded data removed]",
      "text/plain": [
       "<Figure size 432x288 with 2 Axes>"
      ]
     },
     "metadata": {},
     "output_type": "display_data"
    }
   ],
   "source": [
    "%%time\n",
    "#Metrics \n",
    "from sklearn.metrics import accuracy_score \n",
    "from sklearn.metrics import confusion_matrix \n",
    "from sklearn.metrics import precision_score \n",
    "from sklearn.metrics import f1_score \n",
    "from sklearn.metrics import recall_score \n",
    "\n",
    "knn = KNeighborsClassifier(n_neighbors=19,algorithm='brute')\n",
    "knn.fit(X_train,y_train)\n",
    "pred = knn.predict(X_test)\n",
    "acc = accuracy_score(y_test, pred, normalize=True) * float(100)\n",
    "print('\\n****Test accuracy of the knn classifier for k = 19 is %f%%' % (acc))\n",
    "print(\"'\\n****Precision on test set: %0.3f\"%(precision_score(y_test, pred))) \n",
    "print(\"'\\n****Recall on test set: %0.3f\"%(recall_score(y_test, pred))) \n",
    "print(\"'\\n****F1-Score on test set: %0.3f\"%(f1_score(y_test, pred))) \n",
    "print(\"'\\n****Confusion Matrix of test set:\\n [ [TN  FP]\\n [FN TP] ]\\n\") \n",
    "df_cm = pd.DataFrame(confusion_matrix(y_test, pred), range(2),range(2)) \n",
    "sns.set(font_scale=1.5)\n",
    "sns.heatmap(df_cm, annot=True,annot_kws={\"size\": 16}, fmt='g')"
   ]
  },
  {
   "cell_type": "markdown",
   "metadata": {},
   "source": [
    "# KD-TREE"
   ]
  },
  {
   "cell_type": "code",
   "execution_count": 67,
   "metadata": {},
   "outputs": [
    {
     "name": "stdout",
     "output_type": "stream",
     "text": [
      "\n",
      "CV accuracy of the knn classifier for k = 1 is 79.457143%\n",
      "\n",
      "CV accuracy of the knn classifier for k = 3 is 83.295238%\n",
      "\n",
      "CV accuracy of the knn classifier for k = 5 is 84.847619%\n",
      "\n",
      "CV accuracy of the knn classifier for k = 7 is 85.609524%\n",
      "\n",
      "CV accuracy of the knn classifier for k = 9 is 85.714286%\n",
      "\n",
      "CV accuracy of the knn classifier for k = 11 is 85.809524%\n",
      "\n",
      "CV accuracy of the knn classifier for k = 13 is 85.838095%\n",
      "\n",
      "CV accuracy of the knn classifier for k = 15 is 85.809524%\n",
      "\n",
      "CV accuracy of the knn classifier for k = 17 is 85.838095%\n",
      "\n",
      "CV accuracy of the knn classifier for k = 19 is 85.952381%\n",
      "\n",
      "CV accuracy of the knn classifier for k = 21 is 85.933333%\n",
      "\n",
      "CV accuracy of the knn classifier for k = 23 is 85.923810%\n",
      "\n",
      "CV accuracy of the knn classifier for k = 25 is 85.942857%\n",
      "\n",
      "CV accuracy of the knn classifier for k = 27 is 85.847619%\n",
      "\n",
      "CV accuracy of the knn classifier for k = 29 is 85.800000%\n",
      "Wall time: 10min 49s\n"
     ]
    }
   ],
   "source": [
    "%%time\n",
    "from time import time\n",
    "for i in range(1,30,2):\n",
    "    # instantiate learning model (k = 30)\n",
    "    knn = KNeighborsClassifier(n_neighbors=i,algorithm='kd_tree')\n",
    "\n",
    "    # fitting the model on crossvalidation train\n",
    "    knn.fit(X_train, y_train)\n",
    "\n",
    "    # predict the response on the crossvalidation train\n",
    "    pred = knn.predict(X_cv)\n",
    "\n",
    "    # evaluate CV accuracy\n",
    "    acc = accuracy_score(y_cv, pred, normalize=True) * float(100)\n",
    "    print('\\nCV accuracy of the knn classifier for k = %d is %f%%' % (i, acc))"
   ]
  },
  {
   "cell_type": "code",
   "execution_count": 68,
   "metadata": {},
   "outputs": [
    {
     "name": "stdout",
     "output_type": "stream",
     "text": [
      "\n",
      "****Test accuracy of the knn classifier for k = 19 is 83.213333%\n",
      "'\n",
      "****Precision on test set: 0.837\n",
      "'\n",
      "****Recall on test set: 0.988\n",
      "'\n",
      "****F1-Score on test set: 0.907\n",
      "'\n",
      "****Confusion Matrix of test set:\n",
      " [ [TN  FP]\n",
      " [FN TP] ]\n",
      "\n",
      "Wall time: 1min 6s\n"
     ]
    },
    {
     "data": {
      "image/png": "[encoded data removed]",
      "text/plain": [
       "<Figure size 432x288 with 2 Axes>"
      ]
     },
     "metadata": {},
     "output_type": "display_data"
    }
   ],
   "source": [
    "%%time\n",
    "#Metrics \n",
    "from sklearn.metrics import accuracy_score \n",
    "from sklearn.metrics import confusion_matrix \n",
    "from sklearn.metrics import precision_score \n",
    "from sklearn.metrics import f1_score \n",
    "from sklearn.metrics import recall_score \n",
    "\n",
    "knn = KNeighborsClassifier(n_neighbors=19,algorithm='kd_tree')\n",
    "knn.fit(X_train,y_train)\n",
    "pred = knn.predict(X_test)\n",
    "acc = accuracy_score(y_test, pred, normalize=True) * float(100)\n",
    "print('\\n****Test accuracy of the knn classifier for k = 19 is %f%%' % (acc))\n",
    "print(\"'\\n****Precision on test set: %0.3f\"%(precision_score(y_test, pred))) \n",
    "print(\"'\\n****Recall on test set: %0.3f\"%(recall_score(y_test, pred))) \n",
    "print(\"'\\n****F1-Score on test set: %0.3f\"%(f1_score(y_test, pred))) \n",
    "print(\"'\\n****Confusion Matrix of test set:\\n [ [TN  FP]\\n [FN TP] ]\\n\") \n",
    "df_cm = pd.DataFrame(confusion_matrix(y_test, pred), range(2),range(2)) \n",
    "sns.set(font_scale=1.5)\n",
    "sns.heatmap(df_cm, annot=True,annot_kws={\"size\": 16}, fmt='g')"
   ]
  },
  {
   "cell_type": "markdown",
   "metadata": {},
   "source": [
    "# MODEL PERFORMANCE"
   ]
  },
  {
   "cell_type": "raw",
   "metadata": {},
   "source": [
    " VECTORIZER   MODEL     PRECISION     RECALL     F1-SCORE     HYPERPARAMETER\n",
    "\n",
    "BOW          BRUTE       0.861       0.992       0.921         13      \n",
    "             \n",
    "             KD-TREE     0.861       0.992       0.922\n",
    "     \n",
    "\n",
    "TF-IDF       BRUTE       0.860       0.994       0.922         13\n",
    "\n",
    "             KD-TREE     0.860       0.994       0.922\n",
    "\n",
    "\n",
    "AVG-W2V      BRUTE       0.861       0.978       0.916         21\n",
    "\n",
    "             KD-TREE     0.855       0.984       0.915\n",
    "\n",
    "\n",
    "TF-IDF_W2V   BRUTE       0.837       0.988       0.907         19\n",
    "\n",
    "             KD-TREE     0.837       0.988       0.907"
   ]
  },
  {
   "cell_type": "markdown",
   "metadata": {},
   "source": [
    "# CONCLUSION:\n",
    "\n",
    "1)K-NN with 50k points took lot of time to train the dataset\n",
    "\n",
    "2)Best accuracy for K-NN is achieved with AVG-W2V i.e 87.33%\n",
    "\n",
    "3)KD-TREE and BRUTE force algorithms for feautirazations giving similiar results\n",
    "\n",
    "4)Overall for imbalanced dataset k-nn might not be the best option.\n"
   ]
  }
 ],
 "metadata": {
  "kernelspec": {
   "display_name": "Python 3",
   "language": "python",
   "name": "python3"
  },
  "language_info": {
   "codemirror_mode": {
    "name": "ipython",
    "version": 3
   },
   "file_extension": ".py",
   "mimetype": "text/x-python",
   "name": "python",
   "nbconvert_exporter": "python",
   "pygments_lexer": "ipython3",
   "version": "3.6.5"
  }
 },
 "nbformat": 4,
 "nbformat_minor": 2
}
